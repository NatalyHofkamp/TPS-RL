{
 "cells": [
  {
   "cell_type": "markdown",
   "id": "5c37a947",
   "metadata": {},
   "source": [
    "# Trabajo Práctico 1 \n",
    "Hofkamp Nataly"
   ]
  },
  {
   "cell_type": "code",
   "execution_count": 2,
   "id": "3fa3878c",
   "metadata": {},
   "outputs": [
    {
     "name": "stdout",
     "output_type": "stream",
     "text": [
      "Collecting torch\n",
      "  Downloading torch-2.8.0-cp312-cp312-manylinux_2_28_x86_64.whl.metadata (30 kB)\n",
      "Collecting filelock (from torch)\n",
      "  Downloading filelock-3.19.1-py3-none-any.whl.metadata (2.1 kB)\n",
      "Collecting typing-extensions>=4.10.0 (from torch)\n",
      "  Downloading typing_extensions-4.15.0-py3-none-any.whl.metadata (3.3 kB)\n",
      "Collecting setuptools (from torch)\n",
      "  Using cached setuptools-80.9.0-py3-none-any.whl.metadata (6.6 kB)\n",
      "Collecting sympy>=1.13.3 (from torch)\n",
      "  Using cached sympy-1.14.0-py3-none-any.whl.metadata (12 kB)\n",
      "Collecting networkx (from torch)\n",
      "  Using cached networkx-3.5-py3-none-any.whl.metadata (6.3 kB)\n",
      "Collecting jinja2 (from torch)\n",
      "  Using cached jinja2-3.1.6-py3-none-any.whl.metadata (2.9 kB)\n",
      "Collecting fsspec (from torch)\n",
      "  Downloading fsspec-2025.7.0-py3-none-any.whl.metadata (12 kB)\n",
      "Collecting nvidia-cuda-nvrtc-cu12==12.8.93 (from torch)\n",
      "  Downloading nvidia_cuda_nvrtc_cu12-12.8.93-py3-none-manylinux2010_x86_64.manylinux_2_12_x86_64.whl.metadata (1.7 kB)\n",
      "Collecting nvidia-cuda-runtime-cu12==12.8.90 (from torch)\n",
      "  Downloading nvidia_cuda_runtime_cu12-12.8.90-py3-none-manylinux2014_x86_64.manylinux_2_17_x86_64.whl.metadata (1.7 kB)\n",
      "Collecting nvidia-cuda-cupti-cu12==12.8.90 (from torch)\n",
      "  Downloading nvidia_cuda_cupti_cu12-12.8.90-py3-none-manylinux2014_x86_64.manylinux_2_17_x86_64.whl.metadata (1.7 kB)\n",
      "Collecting nvidia-cudnn-cu12==9.10.2.21 (from torch)\n",
      "  Downloading nvidia_cudnn_cu12-9.10.2.21-py3-none-manylinux_2_27_x86_64.whl.metadata (1.8 kB)\n",
      "Collecting nvidia-cublas-cu12==12.8.4.1 (from torch)\n",
      "  Downloading nvidia_cublas_cu12-12.8.4.1-py3-none-manylinux_2_27_x86_64.whl.metadata (1.7 kB)\n",
      "Collecting nvidia-cufft-cu12==11.3.3.83 (from torch)\n",
      "  Downloading nvidia_cufft_cu12-11.3.3.83-py3-none-manylinux2014_x86_64.manylinux_2_17_x86_64.whl.metadata (1.7 kB)\n",
      "Collecting nvidia-curand-cu12==10.3.9.90 (from torch)\n",
      "  Downloading nvidia_curand_cu12-10.3.9.90-py3-none-manylinux_2_27_x86_64.whl.metadata (1.7 kB)\n",
      "Collecting nvidia-cusolver-cu12==11.7.3.90 (from torch)\n",
      "  Downloading nvidia_cusolver_cu12-11.7.3.90-py3-none-manylinux_2_27_x86_64.whl.metadata (1.8 kB)\n",
      "Collecting nvidia-cusparse-cu12==12.5.8.93 (from torch)\n",
      "  Downloading nvidia_cusparse_cu12-12.5.8.93-py3-none-manylinux2014_x86_64.manylinux_2_17_x86_64.whl.metadata (1.8 kB)\n",
      "Collecting nvidia-cusparselt-cu12==0.7.1 (from torch)\n",
      "  Downloading nvidia_cusparselt_cu12-0.7.1-py3-none-manylinux2014_x86_64.whl.metadata (7.0 kB)\n",
      "Collecting nvidia-nccl-cu12==2.27.3 (from torch)\n",
      "  Downloading nvidia_nccl_cu12-2.27.3-py3-none-manylinux2014_x86_64.manylinux_2_17_x86_64.whl.metadata (2.0 kB)\n",
      "Collecting nvidia-nvtx-cu12==12.8.90 (from torch)\n",
      "  Downloading nvidia_nvtx_cu12-12.8.90-py3-none-manylinux2014_x86_64.manylinux_2_17_x86_64.whl.metadata (1.8 kB)\n",
      "Collecting nvidia-nvjitlink-cu12==12.8.93 (from torch)\n",
      "  Downloading nvidia_nvjitlink_cu12-12.8.93-py3-none-manylinux2010_x86_64.manylinux_2_12_x86_64.whl.metadata (1.7 kB)\n",
      "Collecting nvidia-cufile-cu12==1.13.1.3 (from torch)\n",
      "  Downloading nvidia_cufile_cu12-1.13.1.3-py3-none-manylinux2014_x86_64.manylinux_2_17_x86_64.whl.metadata (1.7 kB)\n",
      "Collecting triton==3.4.0 (from torch)\n",
      "  Downloading triton-3.4.0-cp312-cp312-manylinux_2_27_x86_64.manylinux_2_28_x86_64.whl.metadata (1.7 kB)\n",
      "Collecting mpmath<1.4,>=1.1.0 (from sympy>=1.13.3->torch)\n",
      "  Using cached mpmath-1.3.0-py3-none-any.whl.metadata (8.6 kB)\n",
      "Collecting MarkupSafe>=2.0 (from jinja2->torch)\n",
      "  Using cached MarkupSafe-3.0.2-cp312-cp312-manylinux_2_17_x86_64.manylinux2014_x86_64.whl.metadata (4.0 kB)\n",
      "Downloading torch-2.8.0-cp312-cp312-manylinux_2_28_x86_64.whl (887.9 MB)\n",
      "\u001b[2K   \u001b[90m━━━━━━━━━━━━━━━━━━━━━━━━━━━━━━━━━━━━━━━━\u001b[0m \u001b[32m887.9/887.9 MB\u001b[0m \u001b[31m1.7 MB/s\u001b[0m eta \u001b[36m0:00:00\u001b[0m:00:01\u001b[0m00:02\u001b[0m\n",
      "\u001b[?25hDownloading nvidia_cublas_cu12-12.8.4.1-py3-none-manylinux_2_27_x86_64.whl (594.3 MB)\n",
      "\u001b[2K   \u001b[90m━━━━━━━━━━━━━━━━━━━━━━━━━━━━━━━━━━━━━━━━\u001b[0m \u001b[32m594.3/594.3 MB\u001b[0m \u001b[31m1.9 MB/s\u001b[0m eta \u001b[36m0:00:00\u001b[0m:00:01\u001b[0m00:02\u001b[0m\n",
      "\u001b[?25hDownloading nvidia_cuda_cupti_cu12-12.8.90-py3-none-manylinux2014_x86_64.manylinux_2_17_x86_64.whl (10.2 MB)\n",
      "\u001b[2K   \u001b[90m━━━━━━━━━━━━━━━━━━━━━━━━━━━━━━━━━━━━━━━━\u001b[0m \u001b[32m10.2/10.2 MB\u001b[0m \u001b[31m9.5 MB/s\u001b[0m eta \u001b[36m0:00:00\u001b[0m:00:01\u001b[0m00:01\u001b[0m\n",
      "\u001b[?25hDownloading nvidia_cuda_nvrtc_cu12-12.8.93-py3-none-manylinux2010_x86_64.manylinux_2_12_x86_64.whl (88.0 MB)\n",
      "\u001b[2K   \u001b[90m━━━━━━━━━━━━━━━━━━━━━━━━━━━━━━━━━━━━━━━━\u001b[0m \u001b[32m88.0/88.0 MB\u001b[0m \u001b[31m6.0 MB/s\u001b[0m eta \u001b[36m0:00:00\u001b[0m:00:01\u001b[0m00:01\u001b[0m\n",
      "\u001b[?25hDownloading nvidia_cuda_runtime_cu12-12.8.90-py3-none-manylinux2014_x86_64.manylinux_2_17_x86_64.whl (954 kB)\n",
      "\u001b[2K   \u001b[90m━━━━━━━━━━━━━━━━━━━━━━━━━━━━━━━━━━━━━━━━\u001b[0m \u001b[32m954.8/954.8 kB\u001b[0m \u001b[31m7.5 MB/s\u001b[0m eta \u001b[36m0:00:00\u001b[0m:00:01\u001b[0m00:01\u001b[0m\n",
      "\u001b[?25hDownloading nvidia_cudnn_cu12-9.10.2.21-py3-none-manylinux_2_27_x86_64.whl (706.8 MB)\n",
      "\u001b[2K   \u001b[90m━━━━━━━━━━━━━━━━━━━━━━━━━━━━━━━━━━━━━━━━\u001b[0m \u001b[32m706.8/706.8 MB\u001b[0m \u001b[31m1.8 MB/s\u001b[0m eta \u001b[36m0:00:00\u001b[0m:00:01\u001b[0m0:03\u001b[0mm\n",
      "\u001b[?25hDownloading nvidia_cufft_cu12-11.3.3.83-py3-none-manylinux2014_x86_64.manylinux_2_17_x86_64.whl (193.1 MB)\n",
      "\u001b[2K   \u001b[90m━━━━━━━━━━━━━━━━━━━━━━━━━━━━━━━━━━━━━━━━\u001b[0m \u001b[32m193.1/193.1 MB\u001b[0m \u001b[31m4.0 MB/s\u001b[0m eta \u001b[36m0:00:00\u001b[0m:00:01\u001b[0m0:01\u001b[0mm\n",
      "\u001b[?25hDownloading nvidia_cufile_cu12-1.13.1.3-py3-none-manylinux2014_x86_64.manylinux_2_17_x86_64.whl (1.2 MB)\n",
      "\u001b[2K   \u001b[90m━━━━━━━━━━━━━━━━━━━━━━━━━━━━━━━━━━━━━━━━\u001b[0m \u001b[32m1.2/1.2 MB\u001b[0m \u001b[31m7.0 MB/s\u001b[0m eta \u001b[36m0:00:00\u001b[0m:00:01\u001b[0m00:01\u001b[0m\n",
      "\u001b[?25hDownloading nvidia_curand_cu12-10.3.9.90-py3-none-manylinux_2_27_x86_64.whl (63.6 MB)\n",
      "\u001b[2K   \u001b[90m━━━━━━━━━━━━━━━━━━━━━━━━━━━━━━━━━━━━━━━━\u001b[0m \u001b[32m63.6/63.6 MB\u001b[0m \u001b[31m6.2 MB/s\u001b[0m eta \u001b[36m0:00:00\u001b[0m00:01\u001b[0m00:01\u001b[0mm\n",
      "\u001b[?25hDownloading nvidia_cusolver_cu12-11.7.3.90-py3-none-manylinux_2_27_x86_64.whl (267.5 MB)\n",
      "\u001b[2K   \u001b[90m━━━━━━━━━━━━━━━━━━━━━━━━━━━━━━━━━━━━━━━━\u001b[0m \u001b[32m267.5/267.5 MB\u001b[0m \u001b[31m3.2 MB/s\u001b[0m eta \u001b[36m0:00:00\u001b[0m:00:01\u001b[0m00:01\u001b[0m\n",
      "\u001b[?25hDownloading nvidia_cusparse_cu12-12.5.8.93-py3-none-manylinux2014_x86_64.manylinux_2_17_x86_64.whl (288.2 MB)\n",
      "\u001b[2K   \u001b[90m━━━━━━━━━━━━━━━━━━━━━━━━━━━━━━━━━━━━━━━━\u001b[0m \u001b[32m288.2/288.2 MB\u001b[0m \u001b[31m3.1 MB/s\u001b[0m eta \u001b[36m0:00:00\u001b[0m:00:01\u001b[0m00:01\u001b[0m\n",
      "\u001b[?25hDownloading nvidia_cusparselt_cu12-0.7.1-py3-none-manylinux2014_x86_64.whl (287.2 MB)\n",
      "\u001b[2K   \u001b[90m━━━━━━━━━━━━━━━━━━━━━━━━━━━━━━━━━━━━━━━━\u001b[0m \u001b[32m287.2/287.2 MB\u001b[0m \u001b[31m3.2 MB/s\u001b[0m eta \u001b[36m0:00:00\u001b[0m:00:01\u001b[0m00:01\u001b[0m\n",
      "\u001b[?25hDownloading nvidia_nccl_cu12-2.27.3-py3-none-manylinux2014_x86_64.manylinux_2_17_x86_64.whl (322.4 MB)\n",
      "\u001b[2K   \u001b[90m━━━━━━━━━━━━━━━━━━━━━━━━━━━━━━━━━━━━━━━━\u001b[0m \u001b[32m322.4/322.4 MB\u001b[0m \u001b[31m3.0 MB/s\u001b[0m eta \u001b[36m0:00:00\u001b[0m:00:01\u001b[0m00:01\u001b[0m\n",
      "\u001b[?25hDownloading nvidia_nvjitlink_cu12-12.8.93-py3-none-manylinux2010_x86_64.manylinux_2_12_x86_64.whl (39.3 MB)\n",
      "\u001b[2K   \u001b[90m━━━━━━━━━━━━━━━━━━━━━━━━━━━━━━━━━━━━━━━━\u001b[0m \u001b[32m39.3/39.3 MB\u001b[0m \u001b[31m6.1 MB/s\u001b[0m eta \u001b[36m0:00:00\u001b[0m:00:01\u001b[0m00:01\u001b[0m\n",
      "\u001b[?25hDownloading nvidia_nvtx_cu12-12.8.90-py3-none-manylinux2014_x86_64.manylinux_2_17_x86_64.whl (89 kB)\n",
      "\u001b[2K   \u001b[90m━━━━━━━━━━━━━━━━━━━━━━━━━━━━━━━━━━━━━━━━\u001b[0m \u001b[32m90.0/90.0 kB\u001b[0m \u001b[31m658.8 kB/s\u001b[0m eta \u001b[36m0:00:00\u001b[0m \u001b[36m0:00:01\u001b[0m\n",
      "\u001b[?25hDownloading triton-3.4.0-cp312-cp312-manylinux_2_27_x86_64.manylinux_2_28_x86_64.whl (155.6 MB)\n",
      "\u001b[2K   \u001b[90m━━━━━━━━━━━━━━━━━━━━━━━━━━━━━━━━━━━━━━━━\u001b[0m \u001b[32m155.6/155.6 MB\u001b[0m \u001b[31m4.5 MB/s\u001b[0m eta \u001b[36m0:00:00\u001b[0m:00:01\u001b[0m00:01\u001b[0m\n",
      "\u001b[?25hUsing cached setuptools-80.9.0-py3-none-any.whl (1.2 MB)\n",
      "Using cached sympy-1.14.0-py3-none-any.whl (6.3 MB)\n",
      "Downloading typing_extensions-4.15.0-py3-none-any.whl (44 kB)\n",
      "\u001b[2K   \u001b[90m━━━━━━━━━━━━━━━━━━━━━━━━━━━━━━━━━━━━━━━━\u001b[0m \u001b[32m44.6/44.6 kB\u001b[0m \u001b[31m1.3 MB/s\u001b[0m eta \u001b[36m0:00:00\u001b[0m\n",
      "\u001b[?25hDownloading filelock-3.19.1-py3-none-any.whl (15 kB)\n",
      "Downloading fsspec-2025.7.0-py3-none-any.whl (199 kB)\n",
      "\u001b[2K   \u001b[90m━━━━━━━━━━━━━━━━━━━━━━━━━━━━━━━━━━━━━━━━\u001b[0m \u001b[32m199.6/199.6 kB\u001b[0m \u001b[31m4.2 MB/s\u001b[0m eta \u001b[36m0:00:00\u001b[0mta \u001b[36m0:00:01\u001b[0m\n",
      "\u001b[?25hUsing cached jinja2-3.1.6-py3-none-any.whl (134 kB)\n",
      "Using cached networkx-3.5-py3-none-any.whl (2.0 MB)\n",
      "Using cached MarkupSafe-3.0.2-cp312-cp312-manylinux_2_17_x86_64.manylinux2014_x86_64.whl (23 kB)\n",
      "Using cached mpmath-1.3.0-py3-none-any.whl (536 kB)\n",
      "Installing collected packages: nvidia-cusparselt-cu12, mpmath, typing-extensions, sympy, setuptools, nvidia-nvtx-cu12, nvidia-nvjitlink-cu12, nvidia-nccl-cu12, nvidia-curand-cu12, nvidia-cufile-cu12, nvidia-cuda-runtime-cu12, nvidia-cuda-nvrtc-cu12, nvidia-cuda-cupti-cu12, nvidia-cublas-cu12, networkx, MarkupSafe, fsspec, filelock, triton, nvidia-cusparse-cu12, nvidia-cufft-cu12, nvidia-cudnn-cu12, jinja2, nvidia-cusolver-cu12, torch\n",
      "Successfully installed MarkupSafe-3.0.2 filelock-3.19.1 fsspec-2025.7.0 jinja2-3.1.6 mpmath-1.3.0 networkx-3.5 nvidia-cublas-cu12-12.8.4.1 nvidia-cuda-cupti-cu12-12.8.90 nvidia-cuda-nvrtc-cu12-12.8.93 nvidia-cuda-runtime-cu12-12.8.90 nvidia-cudnn-cu12-9.10.2.21 nvidia-cufft-cu12-11.3.3.83 nvidia-cufile-cu12-1.13.1.3 nvidia-curand-cu12-10.3.9.90 nvidia-cusolver-cu12-11.7.3.90 nvidia-cusparse-cu12-12.5.8.93 nvidia-cusparselt-cu12-0.7.1 nvidia-nccl-cu12-2.27.3 nvidia-nvjitlink-cu12-12.8.93 nvidia-nvtx-cu12-12.8.90 setuptools-80.9.0 sympy-1.14.0 torch-2.8.0 triton-3.4.0 typing-extensions-4.15.0\n",
      "Note: you may need to restart the kernel to use updated packages.\n"
     ]
    }
   ],
   "source": [
    "pip install torch"
   ]
  },
  {
   "cell_type": "code",
   "execution_count": 4,
   "id": "83bb52c5",
   "metadata": {},
   "outputs": [
    {
     "name": "stdout",
     "output_type": "stream",
     "text": [
      "Collecting numpy\n",
      "  Downloading numpy-2.3.2-cp312-cp312-manylinux_2_27_x86_64.manylinux_2_28_x86_64.whl.metadata (62 kB)\n",
      "\u001b[2K     \u001b[90m━━━━━━━━━━━━━━━━━━━━━━━━━━━━━━━━━━━━━━━\u001b[0m \u001b[32m62.1/62.1 kB\u001b[0m \u001b[31m644.3 kB/s\u001b[0m eta \u001b[36m0:00:00\u001b[0m0:01\u001b[0m00:01\u001b[0m\n",
      "\u001b[?25hDownloading numpy-2.3.2-cp312-cp312-manylinux_2_27_x86_64.manylinux_2_28_x86_64.whl (16.6 MB)\n",
      "\u001b[2K   \u001b[90m━━━━━━━━━━━━━━━━━━━━━━━━━━━━━━━━━━━━━━━━\u001b[0m \u001b[32m16.6/16.6 MB\u001b[0m \u001b[31m9.1 MB/s\u001b[0m eta \u001b[36m0:00:00\u001b[0m:00:01\u001b[0m00:01\u001b[0m\n",
      "\u001b[?25hInstalling collected packages: numpy\n",
      "Successfully installed numpy-2.3.2\n",
      "Note: you may need to restart the kernel to use updated packages.\n"
     ]
    }
   ],
   "source": [
    "pip install numpy"
   ]
  },
  {
   "cell_type": "code",
   "execution_count": 7,
   "id": "addae130",
   "metadata": {},
   "outputs": [
    {
     "name": "stdout",
     "output_type": "stream",
     "text": [
      "Collecting gymnasium\n",
      "  Downloading gymnasium-1.2.0-py3-none-any.whl.metadata (9.9 kB)\n",
      "Requirement already satisfied: numpy>=1.21.0 in /home/user/Documents/GitHub/TPS-RL/.venv/lib/python3.12/site-packages (from gymnasium) (2.3.2)\n",
      "Collecting cloudpickle>=1.2.0 (from gymnasium)\n",
      "  Downloading cloudpickle-3.1.1-py3-none-any.whl.metadata (7.1 kB)\n",
      "Requirement already satisfied: typing-extensions>=4.3.0 in /home/user/Documents/GitHub/TPS-RL/.venv/lib/python3.12/site-packages (from gymnasium) (4.15.0)\n",
      "Collecting farama-notifications>=0.0.1 (from gymnasium)\n",
      "  Downloading Farama_Notifications-0.0.4-py3-none-any.whl.metadata (558 bytes)\n",
      "Downloading gymnasium-1.2.0-py3-none-any.whl (944 kB)\n",
      "\u001b[2K   \u001b[90m━━━━━━━━━━━━━━━━━━━━━━━━━━━━━━━━━━━━━━━━\u001b[0m \u001b[32m944.3/944.3 kB\u001b[0m \u001b[31m5.7 MB/s\u001b[0m eta \u001b[36m0:00:00\u001b[0m00:01\u001b[0m00:01\u001b[0m\n",
      "\u001b[?25hDownloading cloudpickle-3.1.1-py3-none-any.whl (20 kB)\n",
      "Downloading Farama_Notifications-0.0.4-py3-none-any.whl (2.5 kB)\n",
      "Installing collected packages: farama-notifications, cloudpickle, gymnasium\n",
      "Successfully installed cloudpickle-3.1.1 farama-notifications-0.0.4 gymnasium-1.2.0\n",
      "Note: you may need to restart the kernel to use updated packages.\n"
     ]
    }
   ],
   "source": [
    "pip install gymnasium"
   ]
  },
  {
   "cell_type": "code",
   "execution_count": 26,
   "id": "a9868dc0",
   "metadata": {},
   "outputs": [],
   "source": [
    "import torch\n",
    "import numpy as np\n",
    "import torch.nn as nn\n",
    "from typing import List\n",
    "import gymnasium as gym\n",
    "import torch.optim as optim\n",
    "from gymnasium import spaces\n",
    "from torch.distributions import Categorical\n"
   ]
  },
  {
   "cell_type": "markdown",
   "id": "c2d66f79",
   "metadata": {},
   "source": [
    "# 1.Entornos de Prueba\n",
    "\n",
    "## a. TwoAZeroObsOneStep\n",
    "\n"
   ]
  },
  {
   "cell_type": "code",
   "execution_count": 11,
   "id": "7bf2b7eb",
   "metadata": {},
   "outputs": [],
   "source": [
    "\n",
    "\n",
    "class TwoAZeroObsOneStep(gym.Env):\n",
    "    def __init__(self):\n",
    "        super().__init__()\n",
    "        self.observation_space = spaces.Discrete(1)  # siempre 0\n",
    "        self.action_space = spaces.Discrete(2)       # dos acciones: 0 o 1\n",
    "        self.correct_action = 0                      # definimos cuál es la \"buena\"\n",
    "\n",
    "    def reset(self, seed=None, options=None):\n",
    "        super().reset(seed=seed)\n",
    "        observation = 0\n",
    "        info = {}\n",
    "        return observation, info\n",
    "\n",
    "    def step(self, action):\n",
    "        reward = 1 if action == self.correct_action  else -1\n",
    "        observation = 0\n",
    "        terminated = True       # solo un paso\n",
    "        truncated = False\n",
    "        info = {}\n",
    "        return observation, reward, terminated, truncated, info\n"
   ]
  },
  {
   "cell_type": "markdown",
   "id": "5b4cb2e8",
   "metadata": {},
   "source": [
    "testeo"
   ]
  },
  {
   "cell_type": "code",
   "execution_count": 18,
   "id": "b68457da",
   "metadata": {},
   "outputs": [
    {
     "name": "stdout",
     "output_type": "stream",
     "text": [
      "Acción: 1, Reward: -1, Observation:0\n"
     ]
    }
   ],
   "source": [
    "env = TwoAZeroObsOneStep()\n",
    "obs, _ = env.reset() \n",
    "terminated = False\n",
    "truncated  = False\n",
    "while not terminated and not truncated:\n",
    "    action = env.action_space.sample()\n",
    "    obs, reward, terminated, truncated, info = env.step(action)\n",
    "    print(f\"Acción: {action}, Reward: {reward}, Observation:{obs}\")"
   ]
  },
  {
   "cell_type": "markdown",
   "id": "85c9ad15",
   "metadata": {},
   "source": [
    "## b.TwoARandomObsOneStep\n"
   ]
  },
  {
   "cell_type": "code",
   "execution_count": 19,
   "id": "241d1a41",
   "metadata": {},
   "outputs": [],
   "source": [
    "\n",
    "class TwoARandomObsOneStep(gym.Env):\n",
    "    def __init__(self):\n",
    "        super().__init__()\n",
    "        self.observation_space = spaces.Discrete(2)  # 0 = S1, 1 = S2\n",
    "        self.action_space = spaces.Discrete(2)       # dos acciones: 0 o 1\n",
    "        self.state = None\n",
    "\n",
    "    def reset(self, seed=None, options=None):\n",
    "        super().reset(seed=seed)\n",
    "        # elegir S1 (0) o S2 (1) aleatoriamente\n",
    "        self.state = np.random.choice([0, 1])\n",
    "        info = {}\n",
    "        return self.state, info\n",
    "\n",
    "    def step(self, action):\n",
    "        # Recompensa depende del estado\n",
    "        if self.state == 0:   # S1\n",
    "            reward = 1 if action == 0 else -1\n",
    "        else:                 # S2\n",
    "            reward = 1 if action == 1 else -1\n",
    "\n",
    "        observation = self.state\n",
    "        terminated = True    # un solo paso\n",
    "        truncated = False\n",
    "        info = {}\n",
    "\n",
    "        return observation, reward, terminated, truncated, info\n"
   ]
  },
  {
   "cell_type": "code",
   "execution_count": 20,
   "id": "c5c06e77",
   "metadata": {},
   "outputs": [
    {
     "name": "stdout",
     "output_type": "stream",
     "text": [
      "Acción: 0, Reward: 1, Observation:0\n"
     ]
    }
   ],
   "source": [
    "env = TwoARandomObsOneStep()\n",
    "obs, _ = env.reset() \n",
    "terminated = False\n",
    "truncated  = False\n",
    "while not terminated and not truncated:\n",
    "    action = env.action_space.sample()\n",
    "    obs, reward, terminated, truncated, info = env.step(action)\n",
    "    print(f\"Acción: {action}, Reward: {reward}, Observation:{obs}\")"
   ]
  },
  {
   "cell_type": "markdown",
   "id": "d6e182d5",
   "metadata": {},
   "source": [
    "## c. LineWorldEasyEnv"
   ]
  },
  {
   "cell_type": "code",
   "execution_count": 21,
   "id": "cb4cb97f",
   "metadata": {},
   "outputs": [],
   "source": [
    "class LineWorldEasyEnv(gym.Env):\n",
    "    def __init__(self):\n",
    "        super().__init__()\n",
    "        # Observaciones = posiciones de 1 a 6\n",
    "        self.observation_space = spaces.Discrete(6)  \n",
    "        # Acciones = izquierda (0) o derecha (1)\n",
    "        self.action_space = spaces.Discrete(2)       \n",
    "        self.state = None\n",
    "\n",
    "    def reset(self, seed=None, options=None):\n",
    "        super().reset(seed=seed)\n",
    "        self.state = 1  # posición inicial\n",
    "        info = {}\n",
    "        return self.state, info\n",
    "\n",
    "    def step(self, action):\n",
    "        # Mover\n",
    "        if action == 0:   # izquierda\n",
    "            if self.state > 1:\n",
    "                self.state -= 1\n",
    "        elif action == 1: # derecha\n",
    "            if self.state < 6:\n",
    "                self.state += 1\n",
    "\n",
    "        # Recompensa\n",
    "        reward = 1 if self.state == 6 else 0\n",
    "\n",
    "        # Condición de fin\n",
    "        terminated = (self.state == 6)\n",
    "        truncated = False\n",
    "        info = {}\n",
    "\n",
    "        return self.state, reward, terminated, truncated, info\n"
   ]
  },
  {
   "cell_type": "code",
   "execution_count": 22,
   "id": "1f35d1b1",
   "metadata": {},
   "outputs": [
    {
     "name": "stdout",
     "output_type": "stream",
     "text": [
      "Acción: 0, Reward: 0, Observation:1\n",
      "Acción: 1, Reward: 0, Observation:2\n",
      "Acción: 0, Reward: 0, Observation:1\n",
      "Acción: 0, Reward: 0, Observation:1\n",
      "Acción: 1, Reward: 0, Observation:2\n",
      "Acción: 1, Reward: 0, Observation:3\n",
      "Acción: 1, Reward: 0, Observation:4\n",
      "Acción: 1, Reward: 0, Observation:5\n",
      "Acción: 1, Reward: 1, Observation:6\n"
     ]
    }
   ],
   "source": [
    "env = LineWorldEasyEnv()\n",
    "obs, _ = env.reset() \n",
    "terminated = False\n",
    "truncated  = False\n",
    "while not terminated and not truncated:\n",
    "    action = env.action_space.sample()\n",
    "    obs, reward, terminated, truncated, info = env.step(action)\n",
    "    print(f\"Acción: {action}, Reward: {reward}, Observation:{obs}\")"
   ]
  },
  {
   "cell_type": "markdown",
   "id": "5dff0050",
   "metadata": {},
   "source": [
    "## d.LineWorldMirrorEnv"
   ]
  },
  {
   "cell_type": "code",
   "execution_count": 23,
   "id": "6137448b",
   "metadata": {},
   "outputs": [],
   "source": [
    "\n",
    "class LineWorldMirrorEnv(gym.Env):\n",
    "    def __init__(self):\n",
    "        super().__init__()\n",
    "        self.observation_space = spaces.Discrete(4)  # estados 1 a 4\n",
    "        self.action_space = spaces.Discrete(2)       # 0 = izquierda, 1 = derecha\n",
    "        self.state = None\n",
    "\n",
    "    def reset(self, seed=None, options=None):\n",
    "        super().reset(seed=seed)\n",
    "        self.state = 1  # posición inicial\n",
    "        info = {}\n",
    "        return self.state, info\n",
    "\n",
    "    def step(self, action):\n",
    "        # Invertir acciones en el estado 2\n",
    "        if self.state == 2:\n",
    "            action = 1 - action\n",
    "\n",
    "        # Movimiento normal\n",
    "        if action == 0 and self.state > 1:   # izquierda\n",
    "            self.state -= 1\n",
    "        elif action == 1 and self.state < 4: # derecha\n",
    "            self.state += 1\n",
    "\n",
    "        reward = -1\n",
    "\n",
    "        # Condición de fin\n",
    "        terminated = (self.state == 4)  # objetivo\n",
    "        truncated = False\n",
    "        info = {}\n",
    "\n",
    "        return self.state, reward, terminated, truncated, info\n"
   ]
  },
  {
   "cell_type": "code",
   "execution_count": 25,
   "id": "a621ffcc",
   "metadata": {},
   "outputs": [
    {
     "name": "stdout",
     "output_type": "stream",
     "text": [
      "Acción: 1, Reward: -1, Observation:2\n",
      "Acción: 1, Reward: -1, Observation:1\n",
      "Acción: 1, Reward: -1, Observation:2\n",
      "Acción: 1, Reward: -1, Observation:1\n",
      "Acción: 1, Reward: -1, Observation:2\n",
      "Acción: 1, Reward: -1, Observation:1\n",
      "Acción: 0, Reward: -1, Observation:1\n",
      "Acción: 1, Reward: -1, Observation:2\n",
      "Acción: 0, Reward: -1, Observation:3\n",
      "Acción: 0, Reward: -1, Observation:2\n",
      "Acción: 1, Reward: -1, Observation:1\n",
      "Acción: 1, Reward: -1, Observation:2\n",
      "Acción: 0, Reward: -1, Observation:3\n",
      "Acción: 1, Reward: -1, Observation:4\n"
     ]
    }
   ],
   "source": [
    "env = LineWorldMirrorEnv()\n",
    "obs, _ = env.reset() \n",
    "terminated = False\n",
    "truncated  = False\n",
    "while not terminated and not truncated:\n",
    "    action = env.action_space.sample()\n",
    "    obs, reward, terminated, truncated, info = env.step(action)\n",
    "    print(f\"Acción: {action}, Reward: {reward}, Observation:{obs}\")"
   ]
  },
  {
   "cell_type": "markdown",
   "id": "b59a2cb3",
   "metadata": {},
   "source": [
    "## 2. Implementación del Algoritmo REINFORCE"
   ]
  },
  {
   "cell_type": "markdown",
   "id": "58c0b9d3",
   "metadata": {},
   "source": [
    "### política "
   ]
  },
  {
   "cell_type": "code",
   "execution_count": null,
   "id": "e1a6bb93",
   "metadata": {},
   "outputs": [],
   "source": [
    "class Policy(nn.Module):\n",
    "    def __init__(self, input_dim, output_dim):\n",
    "        super().__init__()\n",
    "        self.net = nn.Sequential(\n",
    "            nn.Linear(input_dim, 20),\n",
    "            nn.ELU(),\n",
    "            nn.Linear(20, 20),\n",
    "            nn.ELU(),\n",
    "            nn.Linear(20, output_dim)  # logits crudos\n",
    "        )\n",
    "    \n",
    "    def forward(self, x):\n",
    "        return self.net(x)   # devuelve logits\n",
    "\n",
    "def get_policy(obs, policy):\n",
    "    logits = policy(obs)\n",
    "    return Categorical(logits=logits)"
   ]
  },
  {
   "cell_type": "markdown",
   "id": "ba35761a",
   "metadata": {},
   "source": [
    "### rewards"
   ]
  },
  {
   "cell_type": "code",
   "execution_count": null,
   "id": "346f4652",
   "metadata": {},
   "outputs": [],
   "source": [
    "\n",
    "def compute_returns(rewards, gamma=0.99):\n",
    "    \"\"\" Computa los retornos descontados \"\"\"\n",
    "    G, returns = 0, []\n",
    "    for r in reversed(rewards):\n",
    "        G = r + gamma * G\n",
    "        returns.insert(0, G)\n",
    "    return torch.tensor(returns, dtype=torch.float32)\n"
   ]
  },
  {
   "cell_type": "markdown",
   "id": "5bbf2d38",
   "metadata": {},
   "source": [
    "### La función de pérdida REINFORCE $\\mathcal{L}(\\theta)$"
   ]
  },
  {
   "cell_type": "code",
   "execution_count": null,
   "id": "23f5c328",
   "metadata": {},
   "outputs": [],
   "source": [
    "\n",
    "def compute_loss(policy, obs, acts, returns):\n",
    "    \"\"\"Computa la pérdida del gradiente de política.\"\"\"\n",
    "    dist = get_policy(obs, policy)\n",
    "    log_probs = dist.log_prob(acts)\n",
    "    return -(log_probs * returns).sum()\n",
    "\n",
    "def reinforce(env, policy, optimizer, batch_size=10, gamma=0.99):\n",
    "    all_rewards, batch_obs,batch_acts, batch_returns  = [],[],[],[]\n",
    "    \n",
    "    for episode in range(batch_size):\n",
    "        state = env.reset()\n",
    "        rewards,states,actions= [],[],[]\n",
    "        \n",
    "        done = False\n",
    "        while not done:\n",
    "            state_t = torch.tensor(state, dtype=torch.float32)\n",
    "            dist = get_policy(state_t, policy)\n",
    "            action = dist.sample()\n",
    "            \n",
    "            state, reward, done, _ = env.step(action.item())\n",
    "            \n",
    "            states.append(state_t)\n",
    "            actions.append(action)\n",
    "            rewards.append(reward)\n",
    "        \n",
    "        # calcular retornos descontados\n",
    "        discounted = compute_returns(rewards, gamma)\n",
    "        \n",
    "        batch_obs.extend(states)\n",
    "        batch_acts.extend(actions)\n",
    "        batch_returns.extend(discounted)\n",
    "        all_rewards.append(sum(rewards))\n",
    "    \n",
    "    # tensores\n",
    "    batch_obs = torch.stack(batch_obs)\n",
    "    batch_acts = torch.tensor(batch_acts)\n",
    "    batch_returns = torch.tensor(batch_returns, dtype=torch.float32)\n",
    "    \n",
    "    # normalizar retornos\n",
    "    batch_returns = (batch_returns - batch_returns.mean()) / (batch_returns.std() + 1e-8)\n",
    "\n",
    "    # pérdida vía compute_loss\n",
    "    loss = compute_loss(policy, batch_obs, batch_acts, batch_returns)\n",
    "    \n",
    "    optimizer.zero_grad()\n",
    "    loss.backward()\n",
    "    optimizer.step()\n",
    "    \n",
    "    return all_rewards\n"
   ]
  },
  {
   "cell_type": "code",
   "execution_count": null,
   "id": "e5bf88f2",
   "metadata": {},
   "outputs": [],
   "source": []
  }
 ],
 "metadata": {
  "kernelspec": {
   "display_name": ".venv (3.12.3)",
   "language": "python",
   "name": "python3"
  },
  "language_info": {
   "codemirror_mode": {
    "name": "ipython",
    "version": 3
   },
   "file_extension": ".py",
   "mimetype": "text/x-python",
   "name": "python",
   "nbconvert_exporter": "python",
   "pygments_lexer": "ipython3",
   "version": "3.12.3"
  }
 },
 "nbformat": 4,
 "nbformat_minor": 5
}
